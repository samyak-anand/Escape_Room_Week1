{
 "cells": [
  {
   "cell_type": "code",
   "execution_count": 1,
   "metadata": {},
   "outputs": [],
   "source": [
    "# Day 1: Create dictionaries and lists serving as game data structures."
   ]
  },
  {
   "cell_type": "code",
   "execution_count": null,
   "metadata": {},
   "outputs": [],
   "source": [
    "# Creating dictionaries\n",
    "couch = {'name': 'Couch', \n",
    "         'type': 'furniture'}\n",
    "\n",
    "piano = {'name': 'piano',\n",
    "         'type': 'instrument'}\n",
    "game_room = {\"name\": \"game_room\",\n",
    "             \"type\": \"room\"}\n",
    "key_A = {'name': 'key A',\n",
    "         'type': 'key',\n",
    "         'target': 'Door A'}\n",
    "Bedroom_1 ={'name': 'Bedroom 1',\n",
    "            'type': 'room',\n",
    "           'target': 'Door B' }"
   ]
  },
  {
   "cell_type": "code",
   "execution_count": null,
   "metadata": {},
   "outputs": [],
   "source": []
  }
 ],
 "metadata": {
  "kernelspec": {
   "display_name": ".venv",
   "language": "python",
   "name": "python3"
  },
  "language_info": {
   "codemirror_mode": {
    "name": "ipython",
    "version": 3
   },
   "file_extension": ".py",
   "mimetype": "text/x-python",
   "name": "python",
   "nbconvert_exporter": "python",
   "pygments_lexer": "ipython3",
   "version": "3.12.3"
  }
 },
 "nbformat": 4,
 "nbformat_minor": 2
}
